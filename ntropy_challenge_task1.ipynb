{
 "cells": [
  {
   "cell_type": "code",
   "execution_count": 1,
   "id": "starting-humidity",
   "metadata": {},
   "outputs": [
    {
     "name": "stdout",
     "output_type": "stream",
     "text": [
      "(28, 28)\n"
     ]
    }
   ],
   "source": [
    "import idx2numpy\n",
    "import numpy as np\n",
    "import matplotlib.pyplot as plt\n",
    "from scipy import misc\n",
    "from PIL import Image\n",
    "\n",
    "\n",
    "file = 't10k-images-idx3-ubyte'\n",
    "arr = idx2numpy.convert_from_file(file)\n",
    "'''\n",
    "for i in range(9):  \n",
    "    plt.subplot(330 + 1 + i)\n",
    "    plt.imshow(arr[i], cmap=plt.get_cmap('gray'))\n",
    "    plt.show()\n",
    "    '''\n",
    "print(np.shape(arr[4]))\n",
    "\n",
    "def vertical_half(image):\n",
    "    h,w = image.shape\n",
    "    w_cutoff = w // 2\n",
    "    s1 = image[:,:w_cutoff]\n",
    "    s2 = image[:,w_cutoff:]\n",
    "    return s1, s2\n",
    "\n",
    "half_images = []\n",
    "for i in range(len(arr)):\n",
    "    img1,img2 = vertical_half(arr[i])\n",
    "    half_images.append(img1)\n",
    "    half_images.append(img2)\n",
    "    #plt.figure()\n",
    "    #plt.subplot(121)\n",
    "    #plt.imshow(img1)\n",
    "    #plt.subplot(122)\n",
    "    #plt.imshow(img2)\n",
    "    #plt.subplot(121)\n",
    "    #plt.imshow(half_images[i])\n",
    "    #plt.subplot(122)\n",
    "    #plt.imshow(half_images[i+1])\n",
    "\n",
    "\n",
    "half_imarr = np.asarray(half_images)\n",
    "\n",
    "\n"
   ]
  },
  {
   "cell_type": "code",
   "execution_count": 2,
   "id": "coastal-pastor",
   "metadata": {},
   "outputs": [
    {
     "data": {
      "text/plain": [
       "<matplotlib.image.AxesImage at 0x7f84a9c0bf50>"
      ]
     },
     "execution_count": 2,
     "metadata": {},
     "output_type": "execute_result"
    },
    {
     "data": {
      "image/png": "[encoded data removed]",
      "text/plain": [
       "<Figure size 432x288 with 1 Axes>"
      ]
     },
     "metadata": {
      "needs_background": "light"
     },
     "output_type": "display_data"
    }
   ],
   "source": [
    "plt.imshow(restore(half_imarr[1000], half_imarr[5001]))"
   ]
  },
  {
   "cell_type": "code",
   "execution_count": 3,
   "id": "entitled-spring",
   "metadata": {},
   "outputs": [],
   "source": [
    "import torch\n",
    "from PIL import Image\n",
    "import os\n",
    "from tqdm import tqdm\n",
    "from torch.utils.data import Dataset\n",
    "\n",
    "import torchvision.transforms as T\n",
    "from tqdm import tqdm\n",
    "import torch.nn as nn\n",
    "import torch.optim as optim"
   ]
  },
  {
   "cell_type": "code",
   "execution_count": 4,
   "id": "casual-obligation",
   "metadata": {},
   "outputs": [],
   "source": [
    "class MnisthalfDataset(Dataset):\n",
    "    def __init__(self, data, transform=None):\n",
    "        self.data = data\n",
    "        self.transform = transform\n",
    "\n",
    "    def __len__(self):\n",
    "        return len(self.data)\n",
    "\n",
    "    def __getitem__(self, idx):\n",
    "        image = self.data[idx]\n",
    "\n",
    "        if self.transform is not None:\n",
    "            tensor_image = self.transform(image)\n",
    "\n",
    "        return tensor_image\n"
   ]
  },
  {
   "cell_type": "code",
   "execution_count": 5,
   "id": "discrete-lightning",
   "metadata": {},
   "outputs": [],
   "source": [
    "class ConvEncoder(nn.Module):\n",
    "    def __init__(self):\n",
    "        super().__init__()\n",
    "        # self.img_size = img_size\n",
    "        self.conv1 = nn.Conv2d(1, 28, (3, 3), padding=(1, 1))\n",
    "        self.relu1 = nn.ReLU(inplace=True)\n",
    "        self.maxpool1 = nn.MaxPool2d((2, 2))\n",
    "\n",
    "        self.conv2 = nn.Conv2d(28, 56, (3, 3), padding=(1, 1))\n",
    "        self.relu2 = nn.ReLU(inplace=True)\n",
    "        self.maxpool2 = nn.MaxPool2d((2, 2))\n",
    "\n",
    "        self.conv3 = nn.Conv2d(56, 112, (3, 3), padding=(1, 1))\n",
    "        self.relu3 = nn.ReLU(inplace=True)\n",
    "        self.maxpool3 = nn.MaxPool2d((2, 2))\n",
    "\n",
    "    def forward(self, x):\n",
    "        # Downscale the image with conv maxpool etc.\n",
    "        #print(x.shape)\n",
    "        x = self.conv1(x)\n",
    "        x = self.relu1(x)\n",
    "        x = self.maxpool1(x)\n",
    "\n",
    "        #print(x.shape)\n",
    "\n",
    "        x = self.conv2(x)\n",
    "        x = self.relu2(x)\n",
    "        x = self.maxpool2(x)\n",
    "\n",
    "        #print(x.shape)\n",
    "\n",
    "        x = self.conv3(x)\n",
    "        x = self.relu3(x)\n",
    "        x = self.maxpool3(x)\n",
    "\n",
    "        #print(x.shape)\n",
    "        return x\n",
    "    \n",
    "class ConvDecoder(nn.Module):\n",
    "    def __init__(self):\n",
    "        super().__init__()\n",
    "        self.deconv1 = nn.ConvTranspose2d(112, 56, (3, 3), stride=(2, 2))\n",
    "        # self.upsamp1 = nn.UpsamplingBilinear2d(2)\n",
    "        self.relu1 = nn.ReLU(inplace=True)\n",
    "\n",
    "        self.deconv2 = nn.ConvTranspose2d(56, 28, (2, 3), stride=(2, 2))\n",
    "#         self.upsamp1 = nn.UpsamplingBilinear2d(2)\n",
    "        self.relu2 = nn.ReLU(inplace=True)\n",
    "\n",
    "        self.deconv3 = nn.ConvTranspose2d(28, 1, (2, 2), stride=(2, 2))\n",
    "        #self.upsamp1 = nn.UpsamplingBilinear2d(2)\n",
    "        self.relu3 = nn.ReLU(inplace=True)\n",
    "\n",
    "    def forward(self, x):\n",
    "        #print(x.shape)\n",
    "        x = self.deconv1(x)\n",
    "        x = self.relu1(x)\n",
    "        #print(x.shape)\n",
    "\n",
    "        x = self.deconv2(x)\n",
    "        x = self.relu2(x)\n",
    "        #print(x.shape)\n",
    "\n",
    "        x = self.deconv3(x)\n",
    "        x = self.relu3(x)\n",
    "        #print(x.shape)\n",
    "        return x"
   ]
  },
  {
   "cell_type": "code",
   "execution_count": 24,
   "id": "medium-slope",
   "metadata": {},
   "outputs": [],
   "source": [
    "IMG_HEIGHT = 28  # The images are already resized here\n",
    "IMG_WIDTH = 14  # The images are already resized here\n",
    "\n",
    "SEED = 42\n",
    "TRAIN_RATIO = 0.75\n",
    "VAL_RATIO = 1 - TRAIN_RATIO\n",
    "SHUFFLE_BUFFER_SIZE = 100\n",
    "\n",
    "LEARNING_RATE = 1e-3\n",
    "EPOCHS = 10\n",
    "TRAIN_BATCH_SIZE = 32  # Let's see, I don't have GPU, Google Colab is best hope\n",
    "TEST_BATCH_SIZE = 32  # Let's see, I don't have GPU, Google Colab is best hope\n",
    "FULL_BATCH_SIZE = 32\n",
    "\n",
    "AUTOENCODER_MODEL_PATH = \"baseline_autoencoder.pt\"\n",
    "ENCODER_MODEL_PATH = \"baseline_encoder.pt\"\n",
    "DECODER_MODEL_PATH = \"baseline_decoder.pt\"\n"
   ]
  },
  {
   "cell_type": "code",
   "execution_count": 25,
   "id": "abroad-aberdeen",
   "metadata": {},
   "outputs": [],
   "source": [
    "__all__ = [\"train_step\", \"val_step\", \"create_embedding\"]\n",
    "\n",
    "import torch\n",
    "import torch.nn as nn\n",
    "\n",
    "# device = torch.device(\"cuda\" if torch.cuda.is_available() else \"cpu\")\n",
    "\n",
    "\n",
    "def train_step(encoder, decoder, train_loader, loss_fn, optimizer, device):\n",
    "    # device = \"cuda\"\n",
    "    encoder.train()\n",
    "    decoder.train()\n",
    "\n",
    "    # print(device)\n",
    "\n",
    "    for batch_idx, train_img in enumerate(train_loader):\n",
    "        train_img = train_img.to(device)\n",
    "        #target_img = target_img.to(device)\n",
    "        #print(train_img.shape)\n",
    "        optimizer.zero_grad()\n",
    "\n",
    "        enc_output = encoder(train_img)\n",
    "        #print('encoder',enc_output.shape)\n",
    "        dec_output = decoder(enc_output)\n",
    "        #print('decoder',dec_output.shape)\n",
    "        \n",
    "        loss = loss_fn(train_img, dec_output)\n",
    "        loss.backward()\n",
    "\n",
    "        optimizer.step()\n",
    "\n",
    "    return loss.item()\n",
    "\n",
    "def val_step(encoder, decoder, val_loader, loss_fn, device):\n",
    "    encoder.eval()\n",
    "    decoder.eval()\n",
    "\n",
    "    with torch.no_grad():\n",
    "        for batch_idx, train_img in enumerate(val_loader):\n",
    "            train_img = train_img.to(device)\n",
    "            #target_img = target_img.to(device)\n",
    "\n",
    "            enc_output = encoder(train_img)\n",
    "            dec_output = decoder(enc_output)\n",
    "\n",
    "            loss = loss_fn(train_img,dec_output)\n",
    "\n",
    "    return loss.item()"
   ]
  },
  {
   "cell_type": "code",
   "execution_count": 26,
   "id": "visible-content",
   "metadata": {},
   "outputs": [
    {
     "name": "stdout",
     "output_type": "stream",
     "text": [
      "------------ Creating Dataset ------------\n",
      "------------ Dataset Created ------------\n",
      "------------ Creating DataLoader ------------\n"
     ]
    }
   ],
   "source": [
    "if torch.cuda.is_available():\n",
    "    device = \"cuda\"\n",
    "else:\n",
    "    device = \"cpu\"\n",
    "\n",
    "\n",
    "transforms = T.Compose([\n",
    "        T.ToTensor(),\n",
    "        T.Normalize((0.5,), (0.5,))\n",
    "        ])\n",
    "print(\"------------ Creating Dataset ------------\")\n",
    "full_dataset = MnisthalfDataset(half_imarr, transforms)\n",
    "\n",
    "train_size = int(TRAIN_RATIO * len(full_dataset))\n",
    "val_size = len(full_dataset) - train_size\n",
    "\n",
    "train_dataset, val_dataset = torch.utils.data.random_split(\n",
    "    full_dataset, [train_size, val_size]\n",
    ")\n",
    "\n",
    "print(\"------------ Dataset Created ------------\")\n",
    "print(\"------------ Creating DataLoader ------------\")\n",
    "train_loader = torch.utils.data.DataLoader(\n",
    "    train_dataset, batch_size=TRAIN_BATCH_SIZE, shuffle=True)\n",
    "val_loader = torch.utils.data.DataLoader(\n",
    "    val_dataset, batch_size=TEST_BATCH_SIZE)\n",
    "\n",
    "full_loader = torch.utils.data.DataLoader(\n",
    "    full_dataset, batch_size=FULL_BATCH_SIZE)"
   ]
  },
  {
   "cell_type": "code",
   "execution_count": 27,
   "id": "light-motel",
   "metadata": {},
   "outputs": [
    {
     "name": "stderr",
     "output_type": "stream",
     "text": [
      "\r",
      "  0%|          | 0/10 [00:00<?, ?it/s]"
     ]
    },
    {
     "name": "stdout",
     "output_type": "stream",
     "text": [
      "------------ Dataloader Cretead ------------\n",
      "Moving models to CPU\n",
      "------------ Training started ------------\n",
      "Epochs = 0, Training Loss : 0.9239951372146606\n"
     ]
    },
    {
     "name": "stderr",
     "output_type": "stream",
     "text": [
      "\r",
      " 10%|█         | 1/10 [00:18<02:44, 18.28s/it]"
     ]
    },
    {
     "name": "stdout",
     "output_type": "stream",
     "text": [
      "Validation Loss decreased, saving new best model\n",
      "Epochs = 0, Validation Loss : 0.9251199960708618\n",
      "Epochs = 1, Training Loss : 0.9230300784111023\n"
     ]
    },
    {
     "name": "stderr",
     "output_type": "stream",
     "text": [
      "\r",
      " 20%|██        | 2/10 [00:36<02:24, 18.04s/it]"
     ]
    },
    {
     "name": "stdout",
     "output_type": "stream",
     "text": [
      "Validation Loss decreased, saving new best model\n",
      "Epochs = 1, Validation Loss : 0.9251199960708618\n",
      "Epochs = 2, Training Loss : 0.9280116558074951\n"
     ]
    },
    {
     "name": "stderr",
     "output_type": "stream",
     "text": [
      "\r",
      " 30%|███       | 3/10 [00:54<02:05, 18.00s/it]"
     ]
    },
    {
     "name": "stdout",
     "output_type": "stream",
     "text": [
      "Validation Loss decreased, saving new best model\n",
      "Epochs = 2, Validation Loss : 0.9251199960708618\n",
      "Epochs = 3, Training Loss : 0.9266093969345093\n"
     ]
    },
    {
     "name": "stderr",
     "output_type": "stream",
     "text": [
      "\r",
      " 40%|████      | 4/10 [01:12<01:48, 18.04s/it]"
     ]
    },
    {
     "name": "stdout",
     "output_type": "stream",
     "text": [
      "Validation Loss decreased, saving new best model\n",
      "Epochs = 3, Validation Loss : 0.9251199960708618\n",
      "Epochs = 4, Training Loss : 0.9313117861747742\n"
     ]
    },
    {
     "name": "stderr",
     "output_type": "stream",
     "text": [
      "\r",
      " 50%|█████     | 5/10 [01:30<01:31, 18.22s/it]"
     ]
    },
    {
     "name": "stdout",
     "output_type": "stream",
     "text": [
      "Validation Loss decreased, saving new best model\n",
      "Epochs = 4, Validation Loss : 0.9251199960708618\n",
      "Epochs = 5, Training Loss : 0.9160170555114746\n"
     ]
    },
    {
     "name": "stderr",
     "output_type": "stream",
     "text": [
      "\r",
      " 60%|██████    | 6/10 [01:48<01:12, 18.14s/it]"
     ]
    },
    {
     "name": "stdout",
     "output_type": "stream",
     "text": [
      "Validation Loss decreased, saving new best model\n",
      "Epochs = 5, Validation Loss : 0.9251199960708618\n",
      "Epochs = 6, Training Loss : 0.9283717274665833\n"
     ]
    },
    {
     "name": "stderr",
     "output_type": "stream",
     "text": [
      "\r",
      " 70%|███████   | 7/10 [02:06<00:54, 18.09s/it]"
     ]
    },
    {
     "name": "stdout",
     "output_type": "stream",
     "text": [
      "Validation Loss decreased, saving new best model\n",
      "Epochs = 6, Validation Loss : 0.9251199960708618\n",
      "Epochs = 7, Training Loss : 0.9300898313522339\n"
     ]
    },
    {
     "name": "stderr",
     "output_type": "stream",
     "text": [
      "\r",
      " 80%|████████  | 8/10 [02:24<00:36, 18.06s/it]"
     ]
    },
    {
     "name": "stdout",
     "output_type": "stream",
     "text": [
      "Validation Loss decreased, saving new best model\n",
      "Epochs = 7, Validation Loss : 0.9251199960708618\n",
      "Epochs = 8, Training Loss : 0.9214169383049011\n"
     ]
    },
    {
     "name": "stderr",
     "output_type": "stream",
     "text": [
      "\r",
      " 90%|█████████ | 9/10 [02:42<00:18, 18.03s/it]"
     ]
    },
    {
     "name": "stdout",
     "output_type": "stream",
     "text": [
      "Validation Loss decreased, saving new best model\n",
      "Epochs = 8, Validation Loss : 0.9251199960708618\n",
      "Epochs = 9, Training Loss : 0.9186469912528992\n"
     ]
    },
    {
     "name": "stderr",
     "output_type": "stream",
     "text": [
      "100%|██████████| 10/10 [03:00<00:00, 18.06s/it]"
     ]
    },
    {
     "name": "stdout",
     "output_type": "stream",
     "text": [
      "Validation Loss decreased, saving new best model\n",
      "Epochs = 9, Validation Loss : 0.9251199960708618\n",
      "Training Done\n"
     ]
    },
    {
     "name": "stderr",
     "output_type": "stream",
     "text": [
      "\n"
     ]
    }
   ],
   "source": [
    "print(\"------------ Dataloader Cretead ------------\")\n",
    "\n",
    "# print(train_loader)\n",
    "loss_fn = nn.MSELoss()\n",
    "\n",
    "encoder = ConvEncoder()\n",
    "\n",
    "decoder = ConvDecoder()\n",
    "\n",
    "if torch.cuda.is_available():\n",
    "    print(\"GPU Availaible moving models to GPU\")\n",
    "else:\n",
    "    print(\"Moving models to CPU\")\n",
    "\n",
    "encoder.to(device)\n",
    "decoder.to(device)\n",
    "\n",
    "# print(device)\n",
    "\n",
    "autoencoder_params = list(encoder.parameters()) + list(decoder.parameters())\n",
    "optimizer = optim.AdamW(autoencoder_params, lr=LEARNING_RATE)\n",
    "\n",
    "# early_stopper = utils.EarlyStopping(patience=5, verbose=True, path=)\n",
    "max_loss = 9999\n",
    "\n",
    "print(\"------------ Training started ------------\")\n",
    "\n",
    "for epoch in tqdm(range(EPOCHS)):\n",
    "    train_loss = train_step(\n",
    "        encoder, decoder, train_loader, loss_fn, optimizer, device=device\n",
    "    )\n",
    "    print(f\"Epochs = {epoch}, Training Loss : {train_loss}\")\n",
    "    val_loss = val_step(\n",
    "        encoder, decoder, val_loader, loss_fn, device=device\n",
    "    )\n",
    "\n",
    "    # Simple Best Model saving\n",
    "    if val_loss < max_loss:\n",
    "        print(\"Validation Loss decreased, saving new best model\")\n",
    "        torch.save(encoder.state_dict(), ENCODER_MODEL_PATH)\n",
    "        torch.save(decoder.state_dict(), DECODER_MODEL_PATH)\n",
    "\n",
    "    print(f\"Epochs = {epoch}, Validation Loss : {val_loss}\")\n",
    "\n",
    "print(\"Training Done\")"
   ]
  },
  {
   "cell_type": "code",
   "execution_count": 28,
   "id": "false-penetration",
   "metadata": {},
   "outputs": [],
   "source": [
    "def create_embedding(encoder, full_loader, embedding_dim, device):\n",
    "    \"\"\"\n",
    "    Creates embedding using encoder from dataloader.\n",
    "    encoder: A convolutional Encoder. E.g. torch_model ConvEncoder\n",
    "    full_loader: PyTorch dataloader, containing (images, images) over entire dataset.\n",
    "    embedding_dim: Tuple (c, h, w) Dimension of embedding = output of encoder dimesntions.\n",
    "    device: \"cuda\" or \"cpu\"\n",
    "    Returns: Embedding of size (num_images_in_loader + 1, c, h, w)\n",
    "    \"\"\"\n",
    "    # Set encoder to eval mode.\n",
    "    encoder.eval()\n",
    "    # Just a place holder for our 0th image embedding.\n",
    "    embedding = torch.randn(embedding_dim)\n",
    "    \n",
    "    # Again we do not compute loss here so. No gradients.\n",
    "    with torch.no_grad():\n",
    "        for batch_idx, train_img in enumerate(full_loader):\n",
    "            # We can compute this on GPU. be faster\n",
    "            train_img = train_img.to(device)\n",
    "            \n",
    "            # Get encoder outputs and move outputs to cpu\n",
    "            enc_output = encoder(train_img).cpu()\n",
    "            #print(enc_output.shape)\n",
    "            # Keep adding these outputs to embeddings.\n",
    "            embedding = torch.cat((embedding, enc_output), 0)\n",
    "    \n",
    "    # Return the embeddings\n",
    "    return embedding"
   ]
  },
  {
   "cell_type": "code",
   "execution_count": 29,
   "id": "prerequisite-tracy",
   "metadata": {},
   "outputs": [],
   "source": [
    "EMBEDDING_SHAPE = (32,112,3,1)\n",
    "# We need feature representations for complete dataset not just train and validation.\n",
    "# Hence we use full loader here.\n",
    "embedding = create_embedding(encoder, full_loader, EMBEDDING_SHAPE, device)\n",
    "\n",
    "# Convert embedding to numpy and save them\n",
    "numpy_embedding = embedding.cpu().detach().numpy()\n",
    "num_images = numpy_embedding.shape[0]\n",
    "\n",
    "# Save the embeddings for complete dataset, not just train\n",
    "flattened_embedding = numpy_embedding.reshape((num_images, -1))\n",
    "np.save(\"data_embedding.npy\", flattened_embedding)"
   ]
  },
  {
   "cell_type": "code",
   "execution_count": 30,
   "id": "automatic-stylus",
   "metadata": {},
   "outputs": [],
   "source": [
    "def compute_similar_images(image, num_images, embedding, device):\n",
    "    \"\"\"\n",
    "    Given an image and number of similar images to search.\n",
    "    Returns the num_images closest neares images.\n",
    "    Args:\n",
    "    image: Image whose similar images are to be found.\n",
    "    num_images: Number of similar images to find.\n",
    "    embedding : A (num_images, embedding_dim) Embedding of images learnt from auto-encoder.\n",
    "    device : \"cuda\" or \"cpu\" device.\n",
    "    \"\"\"\n",
    "    \n",
    "    image_tensor = T.ToTensor()(image)\n",
    "    image_tensor = image_tensor.unsqueeze(0)\n",
    "    \n",
    "    with torch.no_grad():\n",
    "        image_embedding = encoder(image_tensor).cpu().detach().numpy()\n",
    "        \n",
    "    flattened_embedding = image_embedding.reshape((image_embedding.shape[0], -1))\n",
    "\n",
    "    knn = NearestNeighbors(n_neighbors=num_images, metric=\"cosine\")\n",
    "    knn.fit(embedding)\n",
    "\n",
    "    _, indices = knn.kneighbors(flattened_embedding)\n",
    "    indices_list = indices.tolist()\n",
    "    return indices_list"
   ]
  },
  {
   "cell_type": "code",
   "execution_count": 31,
   "id": "persistent-aaron",
   "metadata": {},
   "outputs": [],
   "source": [
    "def plot_similar_images(test,indices_list):\n",
    "    plt.figure()\n",
    "    plt.imshow(test)\n",
    "    plt.show()\n",
    "    indices = indices_list[0]\n",
    "    for index in indices:\n",
    "        img = half_imarr[index-1]\n",
    "        print(index)\n",
    "        plt.imshow(img)\n",
    "        plt.show()"
   ]
  },
  {
   "cell_type": "code",
   "execution_count": 32,
   "id": "spiritual-naples",
   "metadata": {},
   "outputs": [
    {
     "data": {
      "image/png": "[encoded data removed]",
      "text/plain": [
       "<Figure size 432x288 with 1 Axes>"
      ]
     },
     "metadata": {
      "needs_background": "light"
     },
     "output_type": "display_data"
    },
    {
     "name": "stdout",
     "output_type": "stream",
     "text": [
      "15775\n"
     ]
    },
    {
     "data": {
      "image/png": "[encoded data removed]",
      "text/plain": [
       "<Figure size 432x288 with 1 Axes>"
      ]
     },
     "metadata": {
      "needs_background": "light"
     },
     "output_type": "display_data"
    },
    {
     "name": "stdout",
     "output_type": "stream",
     "text": [
      "1761\n"
     ]
    },
    {
     "data": {
      "image/png": "[encoded data removed]",
      "text/plain": [
       "<Figure size 432x288 with 1 Axes>"
      ]
     },
     "metadata": {
      "needs_background": "light"
     },
     "output_type": "display_data"
    },
    {
     "name": "stdout",
     "output_type": "stream",
     "text": [
      "15859\n"
     ]
    },
    {
     "data": {
      "image/png": "[encoded data removed]",
      "text/plain": [
       "<Figure size 432x288 with 1 Axes>"
      ]
     },
     "metadata": {
      "needs_background": "light"
     },
     "output_type": "display_data"
    },
    {
     "name": "stdout",
     "output_type": "stream",
     "text": [
      "17973\n"
     ]
    },
    {
     "data": {
      "image/png": "[encoded data removed]",
      "text/plain": [
       "<Figure size 432x288 with 1 Axes>"
      ]
     },
     "metadata": {
      "needs_background": "light"
     },
     "output_type": "display_data"
    }
   ],
   "source": [
    "from sklearn.neighbors import NearestNeighbors\n",
    "\n",
    "embedding = np.load('data_embedding.npy')\n",
    "\n",
    "test = half_imarr[1]\n",
    "indices_list = compute_similar_images(test, 4, embedding, device)\n",
    "\n",
    "\n",
    "plot_similar_images(test,indices_list)"
   ]
  },
  {
   "cell_type": "code",
   "execution_count": 33,
   "id": "polish-neighborhood",
   "metadata": {},
   "outputs": [],
   "source": [
    "def restore(im1, im2):\n",
    "    h1,w1 = im1.shape\n",
    "    h2,w2 = im2.shape\n",
    "    img = np.zeros((28,28),dtype=np.uint8)\n",
    "    img[:,:w1] = im1 \n",
    "    img[:,w1:] = im2\n",
    "    #dst = Image.new('L',(w1 + w2, h2))\n",
    "    return img\n"
   ]
  },
  {
   "cell_type": "code",
   "execution_count": null,
   "id": "industrial-astrology",
   "metadata": {},
   "outputs": [],
   "source": []
  }
 ],
 "metadata": {
  "kernelspec": {
   "display_name": "Python 3",
   "language": "python",
   "name": "python3"
  },
  "language_info": {
   "codemirror_mode": {
    "name": "ipython",
    "version": 3
   },
   "file_extension": ".py",
   "mimetype": "text/x-python",
   "name": "python",
   "nbconvert_exporter": "python",
   "pygments_lexer": "ipython3",
   "version": "3.7.7"
  }
 },
 "nbformat": 4,
 "nbformat_minor": 5
}
